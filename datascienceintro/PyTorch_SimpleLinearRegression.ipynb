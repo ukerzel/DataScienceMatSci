{
  "nbformat": 4,
  "nbformat_minor": 0,
  "metadata": {
    "colab": {
      "provenance": []
    },
    "kernelspec": {
      "name": "python3",
      "display_name": "Python 3"
    },
    "language_info": {
      "name": "python"
    }
  },
  "cells": [
    {
      "cell_type": "markdown",
      "source": [
        "# Introduction to PyTorch\n",
        "\n",
        "Modern deep learning typically builds on one of the major libraries that allow to efficiently build models without having to deal with the underlying infrastructure and computations.\n",
        "In particular, they free us from the burden of calculating all the mathematical formulae (mostly linear algebra) to train the network, and to so efficiently on modern GPUs.\n",
        "\n",
        "Mostly, two libraries are used: [PyTorch](https://pytorch.org/), developed by Meta/Facebook, or [TensorFlow](https://www.tensorflow.org/), developed by Alphabet/Google. As you can see, a lot of AI research is no longer driven by academia, but industry. Each of these libraries have their strenghts and weaknesses. However, the choice will not limit you in what you can do (maybe how easy it is to implement something). We will choose PyTorch in this course as it has emerged in recent years as them most used package in research, both in academia and industry.\n",
        "\n",
        "Before we will use this library to do any deep learning, we will first cover the basics - using the humble linear regression as an example. Of course, this is efficiently provided by [Linear Regression in Scikit-Learn](https://scikit-learn.org/stable/modules/generated/sklearn.linear_model.LinearRegression.html), however, it serves as an example to:\n",
        "- see what is going on step by step\n",
        "- remind ourselves that, in the end, these libraries are also powerful optimisation libraries."
      ],
      "metadata": {
        "id": "1NKmY1ZZ73g1"
      }
    },
    {
      "cell_type": "code",
      "metadata": {
        "id": "1sga7qkdmqq6"
      },
      "source": [
        "import numpy as np\n",
        "import matplotlib.pyplot as plt\n",
        "import seaborn as sns\n",
        "\n",
        "import torch\n",
        "import torch.optim as optim"
      ],
      "execution_count": 2,
      "outputs": []
    },
    {
      "cell_type": "markdown",
      "source": [
        "# Generate data\n",
        "\n",
        "We will generate some dummy data. Essentially, we want to fit a straight line: We generate data according to a straight line and add some white (Gaussian) noise:\n",
        "$$\n",
        "y \\sim m*x + b + \\mathcal{N(0,1)}\n",
        "$$"
      ],
      "metadata": {
        "id": "lQ-XLHAX_FzG"
      }
    },
    {
      "cell_type": "code",
      "metadata": {
        "id": "GNPAzxpLuha_"
      },
      "source": [
        "m_true = 3\n",
        "b_true = 1\n",
        "eps = 0.1\n",
        "\n",
        "n_samples = 100\n",
        "std_dev = 1\n",
        "x = np.random.rand(n_samples, std_dev)\n",
        "y = m_true * x + b_true + eps * np.random.randn(n_samples, std_dev)"
      ],
      "execution_count": 3,
      "outputs": []
    },
    {
      "cell_type": "code",
      "metadata": {
        "colab": {
          "base_uri": "https://localhost:8080/",
          "height": 284
        },
        "id": "iMtCbHpPvp9L",
        "outputId": "2e3ca50e-21aa-4f1f-dd64-e60713304f73"
      },
      "source": [
        "plt.scatter(x,y)\n",
        "plt.xlabel('x', fontsize=15)\n",
        "plt.ylabel('y', fontsize=15)\n",
        "plt.show()"
      ],
      "execution_count": 6,
      "outputs": [
        {
          "output_type": "display_data",
          "data": {
            "text/plain": [
              "<Figure size 432x288 with 1 Axes>"
            ],
            "image/png": "[encoded data removed]"
          },
          "metadata": {
            "needs_background": "light"
          }
        }
      ]
    },
    {
      "cell_type": "markdown",
      "source": [
        "# Initialise\n",
        "\n",
        "Befor we initialise Pytorch, we need to find out if we have a CPU or a GPU available. For this simple example, a CPU is sufficient - but if we do have a GPU, we need to \"move\" all data and models to it.\n",
        "\n",
        "We do this by checking if CUDA is avaiable (not just installed), i.e. if there are NVidia graphics drivers."
      ],
      "metadata": {
        "id": "tPT0W1UcAq9_"
      }
    },
    {
      "cell_type": "code",
      "metadata": {
        "colab": {
          "base_uri": "https://localhost:8080/"
        },
        "id": "7DjDRobRyyGQ",
        "outputId": "7131bd20-fdcd-4397-ba78-85702a88b3d7"
      },
      "source": [
        "device = 'cuda' if torch.cuda.is_available() else 'cpu'\n",
        "print(device)"
      ],
      "execution_count": 7,
      "outputs": [
        {
          "output_type": "stream",
          "name": "stdout",
          "text": [
            "cpu\n"
          ]
        }
      ]
    },
    {
      "cell_type": "markdown",
      "source": [
        "Internally, PyTorch works with [Torch.Tensor](https://pytorch.org/docs/stable/tensors.html) as numeric data types, see also [Pytorch: Tensor](https://pytorch.org/tutorials/beginner/examples_tensor/polynomial_tensor.html).\n",
        "\n",
        "In a sense, they are quite similar to a multidimensional [NumPy Array](https://numpy.org/doc/stable/reference/generated/numpy.ndarray.html). One major difference is that these tensors can be used both on CPU and on GPU. We can also specify the data type.\n",
        "\n",
        "Therefore, to be able to use PyTorch, we need to convert our data to these tensors. Since we started from NumPy, we can use a convenience function provided by PyTorch to do this.\n",
        "We need to do the following steps:\n",
        "- convert the data from numpy array to PyTorch tensor\n",
        "- specify the data type\n",
        "- move the data to the device we want to run on.\n",
        "\n",
        "The latter step is a crucial detail if we want to make use of, for example, a GPU: If we forget to move either the data or the model to the GPU, we cannot utilise it.\n",
        "Note that we can chain the commands to make the code a bit more efficient"
      ],
      "metadata": {
        "id": "AbCFmE9WBCmg"
      }
    },
    {
      "cell_type": "code",
      "metadata": {
        "colab": {
          "base_uri": "https://localhost:8080/"
        },
        "id": "7Nbr1C4ly_Bx",
        "outputId": "341826b9-7cef-4824-89a5-ab8da3680796"
      },
      "source": [
        "#\n",
        "# convert the NumPy arrays with the data from above to PyTorch tensors\n",
        "#\n",
        "x_tensor = torch.from_numpy(x).float().to(device)\n",
        "y_tensor = torch.from_numpy(y).float().to(device)\n",
        "\n",
        "print(x_tensor.shape,y_tensor.shape)\n",
        "print(x_tensor.type(),y_tensor.type())"
      ],
      "execution_count": 8,
      "outputs": [
        {
          "output_type": "stream",
          "name": "stdout",
          "text": [
            "torch.Size([100, 1]) torch.Size([100, 1])\n",
            "torch.FloatTensor torch.FloatTensor\n"
          ]
        }
      ]
    },
    {
      "cell_type": "markdown",
      "source": [
        "In this case where we want to fit a linear regression model, we have two variables that we need to fit: the slope and the intercept of the line.\n",
        "\n",
        "Therefore, we need to define two variables that we use in the fitting.\n",
        "We initialise these variables using a standard Gaussian, so that they have well-defined and not pathological values. We can do so using [torch.randn](https://pytorch.org/docs/stable/generated/torch.randn.html)\n",
        "\n",
        "We need to specify a few parameters:\n",
        "- ```size```: the size of the array. Here: 1, as we need a single number\n",
        "- ```requires_grad = True```: to be able to use this in the minimisation/fitting procedure\n",
        "- ```dtype```: here we use ```torch.float``` as all our variables are floating point variables\n",
        "-```device``` we need to make sure that we \"move\" the model to the device we are using, i.e. either a CPU or  a GPU.\n",
        "\n",
        "Finally, we print the tensors. Note that this gives us quite a bit of information: They are indeed of the datatype \"tensor\", hold a single value in array shape and are used during optimisation.\n",
        "\n",
        "We can get the shape of the array also directly."
      ],
      "metadata": {
        "id": "utRIxhg9Cw-I"
      }
    },
    {
      "cell_type": "code",
      "metadata": {
        "colab": {
          "base_uri": "https://localhost:8080/"
        },
        "id": "ml6sp73O7IVj",
        "outputId": "038250d8-79cc-42e6-fab1-d845c3c72439"
      },
      "source": [
        "#\n",
        "# define Torch variables - if a GPU is available, use this for the computation\n",
        "# indicate that these variables will be optimized using gradient descent\n",
        "#\n",
        "\n",
        "m = torch.randn(1, requires_grad=True, dtype=torch.float, device=device)\n",
        "b = torch.randn(1, requires_grad=True, dtype=torch.float, device=device)\n",
        "print(m, b)\n",
        "print(m.shape, b.shape)"
      ],
      "execution_count": 34,
      "outputs": [
        {
          "output_type": "stream",
          "name": "stdout",
          "text": [
            "tensor([-0.4388], requires_grad=True) tensor([-1.1128], requires_grad=True)\n",
            "torch.Size([1]) torch.Size([1])\n"
          ]
        }
      ]
    },
    {
      "cell_type": "markdown",
      "source": [
        "# Model fit\n",
        "\n",
        "Now we need to fit the model, i.e. our straigt line.\n",
        "\n",
        "We need the following ingredients to do so:\n",
        "- an optimizer with suitable parameters\n",
        "- an error metric\n",
        "\n",
        "The optimizer is the algorithm that determines how to change the values of the parameters in our model (here: slope $m$ and intercept $b$) such that the resuling straight line fits \"better\" to the data we want to fit. This is then quantified by a loss (or: error) function.\n",
        "\n",
        "In our case, we use [Stochastic Gradient Descent](https://pytorch.org/docs/stable/generated/torch.optim.SGD.html) as optimiser. This is one of the simpler algorithms - it will work well in this case, but we would choose others in more involved applications. This optimiser needs at least the following parameters:\n",
        "- learn rate: How big the steps are in each iteration when estimating new parameters\n",
        "- number of epochs: the number of times we want to run the optimiser. Unfornately, we cannot just say \"run until it's done\" but need to specify, in the simplest approach, how long we want to run for and then determine if this was sufficient.\n",
        "\n",
        "Further, we use the means squared error (MSE) as loss function, i.e. the difference between the predicted ($\\hat{y}$) and true value ($y$):\n",
        "$$\n",
        "MSE = \\frac{1}{N}\\sum_i (\\hat{y} -  y)^2\n",
        "$$\n",
        "\n",
        "In this simple example, we do everything manually and step through the fitting. Later, when we define deep learning models, much of this will be done by helper functions."
      ],
      "metadata": {
        "id": "SHbIRKJZEnHl"
      }
    },
    {
      "cell_type": "code",
      "metadata": {
        "colab": {
          "base_uri": "https://localhost:8080/"
        },
        "id": "w8HB6w8t7wqf",
        "outputId": "5763612c-862f-438f-8b30-064a2bb5a638"
      },
      "source": [
        "#\n",
        "# Fit the model\n",
        "#\n",
        "\n",
        "learn_rate = 1e-1\n",
        "n_epochs = 1000\n",
        "\n",
        "# define the optimizer used to learn the parameters\n",
        "# (Gradient descent)\n",
        "optimizer = optim.SGD([m, b], lr=learn_rate)\n",
        "\n",
        "loss_array = []\n",
        "# training loop\n",
        "for epoch in range(n_epochs):\n",
        "\n",
        "  # prediction\n",
        "  yhat =  m * x_tensor + b\n",
        "\n",
        "  # use MSE as loss function\n",
        "  error = y_tensor - yhat\n",
        "  loss = (error ** 2).mean()\n",
        "  loss_array.append(loss.detach().numpy())\n",
        "\n",
        "\n",
        "  # this computes the gradient of the loss function\n",
        "  # i.e. d(loss)/dx\n",
        "  loss.backward()   \n",
        "\n",
        "  # use the gradient to update the values of the parameters\n",
        "  optimizer.step()\n",
        "\n",
        "  # clears the computations of the gradients\n",
        "  optimizer.zero_grad()\n",
        "\n",
        "print('slope:', m, 'true slope: ', m_true)\n",
        "print('intercept: ', b, 'true intercept: ', b_true)"
      ],
      "execution_count": 35,
      "outputs": [
        {
          "output_type": "stream",
          "name": "stdout",
          "text": [
            "slope: tensor([3.0210], requires_grad=True) true slope:  3\n",
            "intercept:  tensor([0.9898], requires_grad=True) true intercept:  1\n"
          ]
        }
      ]
    },
    {
      "cell_type": "markdown",
      "source": [
        "Next, we look at the values of the loss function during the optimisation.\n",
        "As we can see, starting from the random values above, we make a big jump in the first few iterations, then the progress is much smaller.\n",
        "\n",
        "However, looking at the plot on a log-scale, we can see that after the initial jump in the first iterations, there is a steady decline over the next about 200 iterations, and only after about 300 iterations or so we start to run into a plateau."
      ],
      "metadata": {
        "id": "WOiPBccrHxjI"
      }
    },
    {
      "cell_type": "code",
      "source": [
        "plt.plot(loss_array)\n",
        "plt.yscale('log')\n",
        "plt.show()"
      ],
      "metadata": {
        "colab": {
          "base_uri": "https://localhost:8080/",
          "height": 265
        },
        "id": "d7TqgPykG7Fw",
        "outputId": "56a9ee2a-651f-48e4-9b23-7ff331ed6d05"
      },
      "execution_count": 43,
      "outputs": [
        {
          "output_type": "display_data",
          "data": {
            "text/plain": [
              "<Figure size 432x288 with 1 Axes>"
            ],
            "image/png": "[encoded data removed]"
          },
          "metadata": {
            "needs_background": "light"
          }
        }
      ]
    },
    {
      "cell_type": "markdown",
      "source": [
        "Finally, we compare the fitted model with our original data, as well as the \"true\" slope and intercept we have generated the data from.\n",
        "\n",
        "Note that in order to be able to do this, we first need to \"de-tensorfy\" the variables. Behind the scenes, PyTorch uses a computational graph to do all calculations, if we want to use the variables, e.g. for plotting, we need to [detach](https://pytorch.org/docs/stable/generated/torch.Tensor.detach.html) the variable from this graph. Further, we need to convert this back into numpy format to be able to plot the data.\n",
        "\n",
        "For the plot, we create a number of points on the $x$-axis (```np.linspace```), and then create a straight line: $ y = m*x + b$."
      ],
      "metadata": {
        "id": "M8gizXhjI4Be"
      }
    },
    {
      "cell_type": "code",
      "metadata": {
        "colab": {
          "base_uri": "https://localhost:8080/",
          "height": 288
        },
        "id": "88uy1kuInL6O",
        "outputId": "4d504e2a-54b9-4585-e8e4-94879d85cc09"
      },
      "source": [
        "plt.scatter(x,y)\n",
        "x_space = np.linspace(np.min(x), np.max(x))\n",
        "plt.plot(x_space, m.detach().numpy()*x_space + b.detach().numpy(), label='Fit')\n",
        "plt.plot(x_space, m_true*x_space +b_true, label='Truth')\n",
        "plt.legend()\n",
        "plt.xlabel('x', fontsize = 20)\n",
        "plt.ylabel('y', fontsize = 20)\n",
        "plt.show()"
      ],
      "execution_count": 45,
      "outputs": [
        {
          "output_type": "display_data",
          "data": {
            "text/plain": [
              "<Figure size 432x288 with 1 Axes>"
            ],
            "image/png": "[encoded data removed]"
          },
          "metadata": {
            "needs_background": "light"
          }
        }
      ]
    }
  ]
}