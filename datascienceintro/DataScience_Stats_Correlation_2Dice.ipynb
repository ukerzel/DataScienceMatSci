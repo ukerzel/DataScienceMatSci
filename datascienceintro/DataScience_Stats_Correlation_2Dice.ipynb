{
  "nbformat": 4,
  "nbformat_minor": 0,
  "metadata": {
    "colab": {
      "provenance": []
    },
    "kernelspec": {
      "name": "python3",
      "display_name": "Python 3"
    },
    "language_info": {
      "name": "python"
    }
  },
  "cells": [
    {
      "cell_type": "markdown",
      "source": [
        "# Spurious Correlation\n",
        "\n",
        "In this simple example we investigate how the the way we record data can have a large impact on the conclusions we can draw from data.\n",
        "\n",
        "We use the example of two simple dice and simulate rolling the dice with the random number generator in NumPy ```np.random.choice``` that returns one of the numbers listed in the arguments randomly."
      ],
      "metadata": {
        "id": "gCrmxVOcGaD6"
      }
    },
    {
      "cell_type": "code",
      "execution_count": null,
      "metadata": {
        "id": "tB2s72GekrJ6"
      },
      "outputs": [],
      "source": [
        "import numpy as np\n",
        "import matplotlib.pyplot as plt\n",
        "import seaborn as sns"
      ]
    },
    {
      "cell_type": "markdown",
      "source": [
        "# Two (simple) Dice\n",
        "\n",
        "Imagine we have two six-sided dice and roll them.\n",
        "If we either roll them one after the the other, or both at the same time:\n",
        "In either case we expect that each number appears with the same frequency and that there is no dependency between them."
      ],
      "metadata": {
        "id": "dL0XzGaak6DB"
      }
    },
    {
      "cell_type": "code",
      "source": [
        "# roll the dice n times\n",
        "n_random = 10000\n",
        "dice_1 = np.random.choice([1,2,3,4,5,6], n_random) \n",
        "dice_2 = np.random.choice([1,2,3,4,5,6], n_random) \n",
        "corr = np.corrcoef(x=dice_1, y=dice_2)\n",
        "print('Corrleation: {}'.format(corr))"
      ],
      "metadata": {
        "colab": {
          "base_uri": "https://localhost:8080/"
        },
        "id": "W9_dYLQklcRU",
        "outputId": "29129f4b-5e6e-4241-cd50-1af9e57e41bf"
      },
      "execution_count": 71,
      "outputs": [
        {
          "output_type": "stream",
          "name": "stdout",
          "text": [
            "Corrleation: [[1.         0.00711734]\n",
            " [0.00711734 1.        ]]\n"
          ]
        }
      ]
    },
    {
      "cell_type": "markdown",
      "source": [
        "Apart from small numerical fluctuations, the two set of random numbers are uncorrelated, as we expect."
      ],
      "metadata": {
        "id": "8IHN-3yVnYvY"
      }
    },
    {
      "cell_type": "code",
      "source": [
        "sns.histplot(dice_1, label='dice 1', color='k', bins=6)\n",
        "sns.histplot(dice_2, label='dice 2', color='r', bins=6)\n",
        "plt.legend()\n",
        "plt.show()"
      ],
      "metadata": {
        "colab": {
          "base_uri": "https://localhost:8080/",
          "height": 265
        },
        "id": "NCigEhyjmUZb",
        "outputId": "f0b7ad53-0265-4808-8907-2ba24d75b68f"
      },
      "execution_count": 72,
      "outputs": [
        {
          "output_type": "display_data",
          "data": {
            "text/plain": [
              "<Figure size 432x288 with 1 Axes>"
            ],
            "image/png": "[encoded data removed]"
          },
          "metadata": {
            "needs_background": "light"
          }
        }
      ]
    },
    {
      "cell_type": "code",
      "source": [
        "sns.histplot(x=dice_1, y=dice_2, bins=6,\n",
        "             cbar=True, cbar_kws=dict(shrink=.75),\n",
        "             cmap='rocket')\n",
        "plt.xlabel('dice 1')\n",
        "plt.ylabel('dice 2')\n",
        "plt.show()"
      ],
      "metadata": {
        "colab": {
          "base_uri": "https://localhost:8080/",
          "height": 279
        },
        "id": "ARTbEG5fmxSY",
        "outputId": "a2fc39ca-60d9-4565-83fa-bd3e19dd36c8"
      },
      "execution_count": 73,
      "outputs": [
        {
          "output_type": "display_data",
          "data": {
            "text/plain": [
              "<Figure size 432x288 with 2 Axes>"
            ],
            "image/png": "[encoded data removed]"
          },
          "metadata": {
            "needs_background": "light"
          }
        }
      ]
    },
    {
      "cell_type": "markdown",
      "source": [
        "# With Intervention\n",
        "\n",
        "Now we do the same thing but only record the numbers if one of the dice shows either a 5 or a 6."
      ],
      "metadata": {
        "id": "TVfjYZFd1k1A"
      }
    },
    {
      "cell_type": "code",
      "source": [
        "dice_1 = []\n",
        "dice_2 = []\n",
        "for i in (np.arange(n_random)):\n",
        "  d_1 = np.random.choice([1,2,3,4,5,6], 1) \n",
        "  d_2 = np.random.choice([1,2,3,4,5,6], 1) \n",
        "\n",
        "  if d_1 == 5 or d_1 == 6 or d_2 == 5 or d_2 == 6:\n",
        "    dice_1.append(d_1[0])\n",
        "    dice_2.append(d_2[0])"
      ],
      "metadata": {
        "id": "fAlvEKJM17AL"
      },
      "execution_count": 79,
      "outputs": []
    },
    {
      "cell_type": "markdown",
      "source": [
        "Now we compute the correlation between the two set of numbers.\n",
        "The two numbers are now strongly correlated.\n",
        "\n",
        "This is not surprising, because we changed the way we recorded the data:\n",
        "We only record the outcomes of the two dice if one of them shows a 5 or a 6.\n",
        "Hence, we expect that we observe these two numbers in the final set of recorded values much more frequently than any other value - and we do see this in the plot below.\n",
        "All other numbers occur as well - but we do not observe them as frequently as we see the numbers 5 and 6."
      ],
      "metadata": {
        "id": "iUXf1azM20LE"
      }
    },
    {
      "cell_type": "code",
      "source": [
        "corr = np.corrcoef(x=np.array(dice_1), y=np.array(dice_2))\n",
        "print('Corrleation: {}'.format(corr))"
      ],
      "metadata": {
        "colab": {
          "base_uri": "https://localhost:8080/"
        },
        "id": "NPe4CNJw24ub",
        "outputId": "e13af895-2288-4ab2-ec80-8095fd0ea1bb"
      },
      "execution_count": 85,
      "outputs": [
        {
          "output_type": "stream",
          "name": "stdout",
          "text": [
            "Corrleation: [[ 1.         -0.50814839]\n",
            " [-0.50814839  1.        ]]\n"
          ]
        }
      ]
    },
    {
      "cell_type": "code",
      "source": [
        "sns.histplot(dice_1, label='dice 1', color='k', bins=6)\n",
        "sns.histplot(dice_2, label='dice 2', color='r', bins=6)\n",
        "plt.legend()\n",
        "plt.show()"
      ],
      "metadata": {
        "colab": {
          "base_uri": "https://localhost:8080/",
          "height": 265
        },
        "id": "_Z67o4FL3vrM",
        "outputId": "46fdae80-c597-4c7d-f3a4-2dc503ef4d01"
      },
      "execution_count": 82,
      "outputs": [
        {
          "output_type": "display_data",
          "data": {
            "text/plain": [
              "<Figure size 432x288 with 1 Axes>"
            ],
            "image/png": "[encoded data removed]"
          },
          "metadata": {
            "needs_background": "light"
          }
        }
      ]
    },
    {
      "cell_type": "code",
      "source": [
        "sns.histplot(x=dice_1, y=dice_2, bins=6,\n",
        "             cbar=True, cbar_kws=dict(shrink=.75),\n",
        "             cmap='rocket')\n",
        "plt.xlabel('dice 1')\n",
        "plt.ylabel('dice 2')\n",
        "plt.show()"
      ],
      "metadata": {
        "colab": {
          "base_uri": "https://localhost:8080/",
          "height": 279
        },
        "id": "aFX5kqVb4S6w",
        "outputId": "dfc3a605-8323-429c-87b9-9a353908a7d5"
      },
      "execution_count": 83,
      "outputs": [
        {
          "output_type": "display_data",
          "data": {
            "text/plain": [
              "<Figure size 432x288 with 2 Axes>"
            ],
            "image/png": "[encoded data removed]"
          },
          "metadata": {
            "needs_background": "light"
          }
        }
      ]
    },
    {
      "cell_type": "markdown",
      "source": [
        "When we think about this in the sequence: We change the way we record the data, and then we observe a change in the outcome, it seems obvious what is happening and why.\n",
        "\n",
        "However, in other situations, we start from a very different premise:\n",
        "We obtain the data (or are given the data) and we may not know the data were acquired,\n",
        "\n",
        "For example, imagine the task of a (novice) data scientist who is given the data we have generated above and is tasked with building a prediction model or using machine learning based on these data. In this case, we would easily conclude that the two variables are correlated and have a distribution skewed to high values.\n",
        "With our knowledge \"behind the scenes\" we know that these effects are just artefacts from the way we obtain the data.\n",
        "\n",
        "This highlights the importance of understanding not only where the data we use comes from, but also how it was recorded and which potential issues may arise from this setup."
      ],
      "metadata": {
        "id": "9cBsr_lGFAT4"
      }
    }
  ]
}