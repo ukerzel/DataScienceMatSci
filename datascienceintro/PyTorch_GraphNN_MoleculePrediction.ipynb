{
  "cells": [
    {
      "cell_type": "markdown",
      "metadata": {
        "id": "IC7Wb2UPfP7q"
      },
      "source": [
        "# Graph neural networks in PyTorch\n",
        "\n",
        "Graph neural networks have emerged as a powerful approach to bring machine learning to systems that can be described by graphs, i.e. by nodes that are connected by edges. This can be, for example, a social graph (such as your connections on social media), or, in natural sciences and engineering, a modecule or a crystal. For molecules and crystals, the nodes are represented by atoms (or maybe atom groups) and the edges, i.e. the connections between the nodes (atoms) are the bonds between the atoms. In the end, the macroscopic properties of a molecule or crystal emerge from the complex interplay between the atoms and their bonds. Using graph neural networks, we want to model this. Instead of building a range of feature variables that describe, for example, the position of the atoms and their immediate or far-ranged envioronment, we start by representing the molecule or crystal as a graph and assign node properties (i.e. features of the atom such as, for example, its position in the periodic table, mass, etc.) and edge features (e.g. specific bonds that are formed).\n",
        "\n",
        "In this exercise, we focus on the [QM9 dataset](https://www.nature.com/articles/sdata201422) with a more detailed [description of QM9](https://pytorch-geometric.readthedocs.io/en/latest/_modules/torch_geometric/datasets/qm9.html), as a publicly availble dataset that is already being brought to a form where we can use it for training a graph neural network.\n",
        "The data contain details about 130,000 molecules and there are 19 regression targets for which we can train a GNN.\n",
        "\n",
        "Here, we focus on building the GNN - but a major part of the work would be to create a dataset to use with this network.\n",
        "The implementation of the GNN will follow the footsteps of  graph convolutions described in the paper [Neural Message Passing for Quantum Chemistry](https://arxiv.org/abs/1704.01212) by Gilmer et al. (2017). These are implemented as [NNConv](https://pytorch-geometric.readthedocs.io/en/latest/modules/nn.html#torch_geometric.nn.conv.NNConv) in the toolkit [PyG](https://pytorch-geometric.readthedocs.io/en/latest/) (PyTorch Geometric) that provides a wide range of functions to build graph neural networks.\n",
        "\n",
        "The task of this exercise is to predict the isotropic polarizability (the molecule's response of its charge in an external electric field). This is a regression task. For simplicity, we will predict this quantity as a single real-valued number.\n",
        "\n",
        "\n",
        "The main code of this exerercise was taken from the book [Machine Learning with PyTorch and Scikit-Learn](https://sebastianraschka.com/books/)"
      ]
    },
    {
      "cell_type": "code",
      "execution_count": null,
      "metadata": {
        "colab": {
          "base_uri": "https://localhost:8080/",
          "height": 954
        },
        "id": "CXkry3hMOKYB",
        "outputId": "aa7da3a9-9f08-4c36-b83a-7dcf34f8456e"
      },
      "outputs": [],
      "source": [
        "# Only on Colab, etc\n",
        "# see https://pytorch-geometric.readthedocs.io/en/latest/notes/installation.html\n",
        "# only works for pip at the moment\n",
        "# !pip install pyg-lib torch-scatter torch-sparse torch-cluster torch-spline-conv torch-geometric -f https://data.pyg.org/whl/torch-1.13.0+cu117.html"
      ]
    },
    {
      "cell_type": "code",
      "execution_count": 1,
      "metadata": {
        "id": "1kINuHRifGPY"
      },
      "outputs": [
        {
          "name": "stderr",
          "output_type": "stream",
          "text": [
            "/home/kerzel/.cache/pypoetry/virtualenvs/datascienceintro-eVBNPtpL-py3.10/lib/python3.10/site-packages/tqdm/auto.py:22: TqdmWarning: IProgress not found. Please update jupyter and ipywidgets. See https://ipywidgets.readthedocs.io/en/stable/user_install.html\n",
            "  from .autonotebook import tqdm as notebook_tqdm\n"
          ]
        }
      ],
      "source": [
        "import torch\n",
        "\n",
        "from torch_geometric.datasets import QM9\n",
        "from torch_geometric.loader import DataLoader\n",
        "from torch_geometric.nn import NNConv, global_add_pool\n",
        "from torch_geometric.utils import to_networkx\n",
        "\n",
        "# visualising graphs\n",
        "import networkx as nx\n",
        "\n",
        "import matplotlib.pyplot as plt\n",
        "import seaborn as sns\n",
        "\n",
        "import torch.nn as nn\n",
        "import torch.nn.functional as F\n",
        "import numpy as np"
      ]
    },
    {
      "cell_type": "markdown",
      "metadata": {
        "id": "8sbdD8ZvRpba"
      },
      "source": [
        "# Data Access\n",
        "\n",
        "As mentioned above, we will use the [QM9 dataset](https://www.nature.com/articles/sdata201422) in this example. PyTorch-Geometric provides us with a convenient wrapper to access the data."
      ]
    },
    {
      "cell_type": "code",
      "execution_count": 2,
      "metadata": {
        "colab": {
          "base_uri": "https://localhost:8080/"
        },
        "id": "1C7pY9-18J6d",
        "outputId": "3df4e904-725b-47ae-9e18-074580e74529"
      },
      "outputs": [
        {
          "name": "stderr",
          "output_type": "stream",
          "text": [
            "Downloading https://data.pyg.org/datasets/qm9_v3.zip\n",
            "Extracting data/qm9/raw/qm9_v3.zip\n",
            "Processing...\n",
            "Using a pre-processed version of the dataset. Please install 'rdkit' to alternatively process the raw data.\n",
            "Done!\n"
          ]
        },
        {
          "name": "stdout",
          "output_type": "stream",
          "text": [
            "number of data points:  130831\n"
          ]
        }
      ],
      "source": [
        "data_set = QM9('data/qm9')\n",
        "print('number of data points: ', len(data_set))\n"
      ]
    },
    {
      "cell_type": "markdown",
      "metadata": {
        "id": "grSasyIwSDII"
      },
      "source": [
        "## Data Exploration\n",
        "\n",
        "The base format of the library PyTorch Geometric is the [Data](torch-geometric.readthedocs.io/en/latest/generated/torch_geometric.data.Data.html#torch_geometric.data.Data) object that describes the graph.\n",
        "\n",
        "In other machinee learning tasks, the data were given, for example, by a table consisting of feature variables and the target/label (for structured data), or an image together with a label for image analysis tasks.\n",
        "\n",
        "Now that we consider graphs, we need to store information about the nodes, the edges (and connection between nodes),as well as the target information.\n",
        "\n",
        "The part ```data.x``` describes the note feature matrix describing, for example, the atoms. The dimensions of this matrix is ```[num_nodes, num_node_features]```\n",
        "\n",
        "The target (label) is given by ```data.y```. In graphs, we can now have multiple layers of targets. We can, for example, have targets that describe the whole graph. In our case, this is the isotropic polarizability. In this case, the shape of the target array is ```[1,*]```, where the ```*``` indicates that we can have many targets to train on (19 in this dataset), that are conveniently combined into the same object.\n",
        "In other situation, we would predict properties of the nodes, in this case the shape of the target object is ```[num_nodes, *]```\n",
        "\n",
        "We also need to describe the edges connecting the nodes and we use the ```data.edge_index``` (in [COO](https://pytorch.org/docs/stable/sparse.html#sparse-coo-docs) format) to describe which node (atom) is connected to which. The shape of this matrix is ```[2, num_edges]```. We also need to describe the attribute of each edge which is done using ```data.edge_attr``` of shape ```[num_edges, num_edge_features]```.\n",
        "\n",
        "The ```data``` object also allows us to store new variables in this object, depending on our needs for the specific task at hand."
      ]
    },
    {
      "cell_type": "code",
      "execution_count": 3,
      "metadata": {
        "colab": {
          "base_uri": "https://localhost:8080/"
        },
        "id": "j8Z35g-TTtKp",
        "outputId": "c9ac2a0c-b152-417f-e637-bf826cddd3f2"
      },
      "outputs": [
        {
          "name": "stdout",
          "output_type": "stream",
          "text": [
            "Data type <class 'torch_geometric.data.data.Data'>\n",
            "number of nodes (atoms): 5\n",
            "number of edges (bonds): 8\n",
            "number of node features: 11\n",
            "number of edge features: 4\n",
            "------------------- \n",
            "\n",
            "node features: tensor([[0., 1., 0., 0., 0., 6., 0., 0., 0., 0., 4.],\n",
            "        [1., 0., 0., 0., 0., 1., 0., 0., 0., 0., 0.],\n",
            "        [1., 0., 0., 0., 0., 1., 0., 0., 0., 0., 0.],\n",
            "        [1., 0., 0., 0., 0., 1., 0., 0., 0., 0., 0.],\n",
            "        [1., 0., 0., 0., 0., 1., 0., 0., 0., 0., 0.]])\n",
            "------------------- \n",
            "\n",
            "target shape: torch.Size([1, 19])\n",
            "------------------- \n",
            "\n",
            "edge features: tensor([[1., 0., 0., 0.],\n",
            "        [1., 0., 0., 0.],\n",
            "        [1., 0., 0., 0.],\n",
            "        [1., 0., 0., 0.],\n",
            "        [1., 0., 0., 0.],\n",
            "        [1., 0., 0., 0.],\n",
            "        [1., 0., 0., 0.],\n",
            "        [1., 0., 0., 0.]])\n",
            "------------------- \n",
            "\n",
            "------------------- \n",
            "\n",
            "x : tensor([[0., 1., 0., 0., 0., 6., 0., 0., 0., 0., 4.],\n",
            "        [1., 0., 0., 0., 0., 1., 0., 0., 0., 0., 0.],\n",
            "        [1., 0., 0., 0., 0., 1., 0., 0., 0., 0., 0.],\n",
            "        [1., 0., 0., 0., 0., 1., 0., 0., 0., 0., 0.],\n",
            "        [1., 0., 0., 0., 0., 1., 0., 0., 0., 0., 0.]])\n",
            "edge_index : tensor([[0, 0, 0, 0, 1, 2, 3, 4],\n",
            "        [1, 2, 3, 4, 0, 0, 0, 0]])\n",
            "edge_attr : tensor([[1., 0., 0., 0.],\n",
            "        [1., 0., 0., 0.],\n",
            "        [1., 0., 0., 0.],\n",
            "        [1., 0., 0., 0.],\n",
            "        [1., 0., 0., 0.],\n",
            "        [1., 0., 0., 0.],\n",
            "        [1., 0., 0., 0.],\n",
            "        [1., 0., 0., 0.]])\n",
            "y : tensor([[    0.0000,    13.2100,   -10.5499,     3.1865,    13.7363,    35.3641,\n",
            "             1.2177, -1101.4878, -1101.4098, -1101.3840, -1102.0229,     6.4690,\n",
            "           -17.1722,   -17.2868,   -17.3897,   -16.1519,   157.7118,   157.7100,\n",
            "           157.7070]])\n",
            "pos : tensor([[-1.2700e-02,  1.0858e+00,  8.0000e-03],\n",
            "        [ 2.2000e-03, -6.0000e-03,  2.0000e-03],\n",
            "        [ 1.0117e+00,  1.4638e+00,  3.0000e-04],\n",
            "        [-5.4080e-01,  1.4475e+00, -8.7660e-01],\n",
            "        [-5.2380e-01,  1.4379e+00,  9.0640e-01]])\n",
            "idx : tensor([0])\n",
            "name : gdb_1\n",
            "z : tensor([6, 1, 1, 1, 1])\n"
          ]
        }
      ],
      "source": [
        "# first element in the list of all the graphs describing molecules\n",
        "graph_0 = data_set[0]\n",
        "print('Data type {}'.format(type(graph_0)))\n",
        "\n",
        "print('number of nodes (atoms): {}'.format(graph_0.num_nodes))\n",
        "print('number of edges (bonds): {}'.format(graph_0.num_edges))\n",
        "\n",
        "print('number of node features: {}'.format(graph_0.num_node_features))\n",
        "print('number of edge features: {}'.format(graph_0.num_edge_features))\n",
        "\n",
        "print('------------------- \\n')\n",
        "\n",
        "print('node features: {}'.format(graph_0.x))\n",
        "\n",
        "print('------------------- \\n')\n",
        "\n",
        "print('target shape: {}'.format(graph_0.y.shape))\n",
        "\n",
        "print('------------------- \\n')\n",
        "print('edge features: {}'.format(graph_0.edge_attr))\n",
        "\n",
        "# loop over everything in the data object\n",
        "print('------------------- \\n')\n",
        "print('------------------- \\n')\n",
        "for key, item in graph_0:\n",
        "  print(f'{key} : {item}')"
      ]
    },
    {
      "cell_type": "markdown",
      "metadata": {
        "id": "XMETBVCFkqfS"
      },
      "source": [
        "Much of the actual work then consists of putting these data for node and edge features together. The details are described in the [QM9](https://pytorch-geometric.readthedocs.io/en/latest/_modules/torch_geometric/datasets/qm9.html) documentation, in particular, the ```proceess()``` function.\n",
        "\n",
        "For example, the edge attributes are one-hot encoded descriptions of the bond type ```bonds = {BT.SINGLE: 0, BT.DOUBLE: 1, BT.TRIPLE: 2, BT.AROMATIC: 3}```, \n",
        "the ```x``` part for the node attributes includes information about the atomic number, the hybridisation of atomic orbitals, etc.\n"
      ]
    },
    {
      "cell_type": "markdown",
      "metadata": {
        "id": "MWtoFE7Jj7G0"
      },
      "source": [
        "Using the [NetworkX](https://networkx.org/) package, we can visualise the graph that belongs to this molecule."
      ]
    },
    {
      "cell_type": "code",
      "execution_count": 4,
      "metadata": {
        "colab": {
          "base_uri": "https://localhost:8080/",
          "height": 319
        },
        "id": "F6vHcL_NFpTN",
        "outputId": "558d4f09-5ce0-4ae4-e12a-8ac583386ca9"
      },
      "outputs": [
        {
          "data": {
            "image/png": "[encoded data removed]",
            "text/plain": [
              "<Figure size 640x480 with 1 Axes>"
            ]
          },
          "metadata": {},
          "output_type": "display_data"
        }
      ],
      "source": [
        "G = to_networkx(graph_0, to_undirected=True)\n",
        "nx.draw_spring(G, with_labels = True) \n"
      ]
    },
    {
      "cell_type": "markdown",
      "metadata": {
        "id": "xVrWpbx0h0tb"
      },
      "source": [
        "# Graph Neural Network setup\n",
        "\n",
        "Now we define a Graph Neural Network (GNN).\n",
        "The overall task we aim to achieve is graph regression: we want to predict a continuous quanity described by the whole graph.\n",
        "\n",
        "We will use graph convolutional layers - remember that each layer added corresponds to a \"hop\" from which we can receive information. Hence, adding N layers means we can reach nodes up to N \"hops\" away.\n",
        "\n",
        "In particular, we use the class [``NNConv``](https://pytorch-geometric.readthedocs.io/en/latest/modules/nn.html#torch_geometric.nn.conv.NNConv) from ``PyTorch Geometric`` that implements the approach described in [Neural Message Passing for Quantum Chemistry](https://arxiv.org/abs/1704.01212). Here, a (small) neural network (the \"Edge Network\") in the paper maps the edge vector to a matrix that is then used in the convolution - essentially, our learnable filter. This network can, e.g. be specified by ``torch.nn.Sequential``.\n",
        "\n",
        "\n",
        "From the documentation of ``NNconv``: A neural network that maps edge features edge_attr of shape [-1, num_edge_features] to shape [-1, in_channels * out_channels]\n",
        "\n",
        "The [``global_add_pool``](https://pytorch-geometric.readthedocs.io/en/latest/modules/graphgym.html?highlight=global_add_pool#torch_geometric.graphgym.models.global_add_pool) adds the node features.\n",
        "\n",
        "Note that for simplicity we only predict a single number.\n",
        "\n",
        "In order to exploit the edge features, we use two small fully connected networks. Since we do not require much flexibility, we use the [Sequential](https://pytorch.org/docs/stable/generated/torch.nn.Sequential.html) method to define the network and its layers. This is not as powerful as writting our custom classes, however, it is more convenient for small networks - and also, the class [NNConv](https://pytorch-geometric.readthedocs.io/en/latest/_modules/torch_geometric/nn/conv/nn_conv.html) requires us to use this format. \n",
        "These edge networks get passed as a parameter to the graph convolutional layer.\n",
        "\n",
        "In the later setup of our own network ```class ConvNet``` we then revert back to the more powerful way of defining a network.\n",
        "\n",
        "In a more compact way of writing, our network consists of:\n",
        "-  2 graph convolutional layers, \n",
        "- that are passed through the ```ReLU``` activation function, \n",
        "- global pooling\n",
        "- a fully connected layer that that takes the output of the graph convolution (i.e. the features our network has built itself)\n",
        "- a fully connected layer as \"regression head\", i.e. with 1 output node that describes the value of the target we want to predict."
      ]
    },
    {
      "cell_type": "code",
      "execution_count": 6,
      "metadata": {
        "id": "0gazPqjShzwS"
      },
      "outputs": [],
      "source": [
        "class ConvNet(nn.Module):\n",
        "  def __init__(self, num_node_features, num_edge_features):\n",
        "    \n",
        "    # initialize the base class (Module from torch.nn)\n",
        "    super().__init__()\n",
        "\n",
        "\n",
        "    # define small networks for the edge features.\n",
        "    edge_net_1 = nn.Sequential(\n",
        "        nn.Linear(num_edge_features, 32),\n",
        "        nn.ReLU(),\n",
        "        nn.Linear(32, num_node_features*32)\n",
        "    )\n",
        "\n",
        "    edge_net_2 = nn.Sequential(\n",
        "        nn.Linear(num_edge_features, 32),\n",
        "        nn.ReLU(),\n",
        "        nn.Linear(32, 32*16)\n",
        "    )\n",
        "\n",
        "    # now we define the layers we want to use in our GNN\n",
        "\n",
        "    # we use two graph convolutional layers: \n",
        "    # NNConv(#input channels, #output channels, edge_net)\n",
        "    self.conv_1 = NNConv(num_node_features, 32, edge_net_1)\n",
        "    self.conv_2 = NNConv(32, 16, edge_net_2)\n",
        "    \n",
        "    # then a dense (fully-connected) layer for the regression \n",
        "    # of the output of the graph convolution\n",
        "    self.fc_1 = nn.Linear(16, 32)\n",
        "\n",
        "    # and a linear layer to map the output to the single number \n",
        "    # we want to predict\n",
        "    self.out = nn.Linear(32,1)\n",
        "\n",
        "  # define the forward pass, i.e. how the various network components\n",
        "  # interact and how we build the final model.\n",
        "  def forward(self, data):\n",
        "    \n",
        "    #unpack the data\n",
        "    batch, x, edge_index, edge_attr = (\n",
        "        data.batch, data.x, data.edge_index, data.edge_attr\n",
        "    )\n",
        "\n",
        "    #now build the network\n",
        "    # start with the graph convolutional layers\n",
        "    x = F.relu(self.conv_1(x, edge_index, edge_attr))\n",
        "    x = F.relu(self.conv_2(x, edge_index, edge_attr))\n",
        "    # add node features\n",
        "    x = global_add_pool(x, batch)\n",
        "    # regression head\n",
        "    x = F.relu(self.fc_1(x))\n",
        "    # final output\n",
        "    output = self.out(x)\n",
        "    return output\n"
      ]
    },
    {
      "cell_type": "markdown",
      "metadata": {
        "id": "k1Z3kkb0ouy6"
      },
      "source": [
        "We split the data into trainnig and testing sample.\n",
        "PyTorch provides a similar functionality to Scikit-Learn to split a given dataset into a test/train/validation sample with [random_split](https://pytorch.org/docs/stable/data.html#torch.utils.data.random_split)"
      ]
    },
    {
      "cell_type": "code",
      "execution_count": 7,
      "metadata": {
        "id": "QsLAdovOwuXN"
      },
      "outputs": [],
      "source": [
        "# create training, test and validation samples\n",
        "# the length of the overall dataset is: 130831, so we use\n",
        "# the bulk for training and around 10% for validation and testing\n",
        "# (put the 831 samples to the validation test, avoid somewhat awkward split\n",
        "#  to make the numbers the same...)\n",
        "train_set, validation_set, test_set = torch.utils.data.random_split(\n",
        "    data_set, [110000, 10831, 10000]\n",
        ")\n",
        "\n",
        "train_loader      = DataLoader(train_set, batch_size=32, shuffle=True)\n",
        "validation_loader = DataLoader(validation_set, batch_size=32, shuffle=True)\n",
        "test_loader       = DataLoader(test_set, batch_size=32, shuffle=True)\n"
      ]
    },
    {
      "cell_type": "markdown",
      "metadata": {
        "id": "KH0CCLohpJpf"
      },
      "source": [
        "## Network Training\n",
        "\n",
        "Now we set the network up as we did in other cases. Once we have defined the graph neural network using PyTorch Geometric, the interface is identical to the standard PyTorch interface.\n",
        "\n",
        "We create an instance of our network, define an optimizer (and, if we want, a learning rate scheduler), and move the model (and the data) to the training device (i.e. GPU or CPU)"
      ]
    },
    {
      "cell_type": "code",
      "execution_count": 8,
      "metadata": {
        "colab": {
          "base_uri": "https://localhost:8080/"
        },
        "id": "8tKkr4dQyGeC",
        "outputId": "fccf74f2-dd54-47f4-89cb-ce0022b084fc"
      },
      "outputs": [
        {
          "name": "stdout",
          "output_type": "stream",
          "text": [
            "Train on:  cpu\n"
          ]
        },
        {
          "data": {
            "text/plain": [
              "ConvNet(\n",
              "  (conv_1): NNConv(11, 32, aggr=add, nn=Sequential(\n",
              "    (0): Linear(in_features=4, out_features=32, bias=True)\n",
              "    (1): ReLU()\n",
              "    (2): Linear(in_features=32, out_features=352, bias=True)\n",
              "  ))\n",
              "  (conv_2): NNConv(32, 16, aggr=add, nn=Sequential(\n",
              "    (0): Linear(in_features=4, out_features=32, bias=True)\n",
              "    (1): ReLU()\n",
              "    (2): Linear(in_features=32, out_features=512, bias=True)\n",
              "  ))\n",
              "  (fc_1): Linear(in_features=16, out_features=32, bias=True)\n",
              "  (out): Linear(in_features=32, out_features=1, bias=True)\n",
              ")"
            ]
          },
          "execution_count": 8,
          "metadata": {},
          "output_type": "execute_result"
        }
      ],
      "source": [
        "# setup a network\n",
        "net = ConvNet(data_set.num_node_features,\n",
        "              data_set.num_edge_features)\n",
        "\n",
        "# optimizier for the training\n",
        "optimizer = torch.optim.Adam(\n",
        "    net.parameters(), lr=0.01\n",
        ")\n",
        "\n",
        "# training epochs\n",
        "epochs = 4\n",
        "\n",
        "# predict the polarizability (index 1 in the dataset)\n",
        "target_idx = 1\n",
        "\n",
        "# training device: CPU/GPU\n",
        "device = torch.device('cuda:0' if \n",
        "                       torch.cuda.is_available() else 'cpu')\n",
        "print('Train on: ', device)\n",
        "\n",
        "net.to(device)\n"
      ]
    },
    {
      "cell_type": "markdown",
      "metadata": {
        "id": "zFVxw4G2pnA2"
      },
      "source": [
        "The training loop is similar to what we have encountered before.\n",
        "\n",
        "As we now have a regression task, we need to choose an appropriate loss function. The most commonly used type is the mean squared error (MSE) which is provided by [mse_loss](https://pytorch.org/docs/stable/generated/torch.nn.MSELoss.html#torch.nn.MSELoss).\n",
        "\n",
        "Because of the way we access the data, we need to \"move things around a bit\" to bring it into the correct shape for comparison. Note that there is more than one way to obtain the data from the dataloader: Here, we access the batch of data itself, so we need to \n",
        "- access the target value ```y```\n",
        "- since there are 19 possible targets for this dataset, we need to access the right one via ```target_idx```.\n",
        "- bring it into the correct shape so that we can compare the values output <-> prediction which is done by [unsqueeze](https://pytorch.org/docs/stable/generated/torch.unsqueeze.html). Since we chain the operations here with multiple ```.```, we provide the desired dimension as parameter to unsqueze."
      ]
    },
    {
      "cell_type": "code",
      "execution_count": 9,
      "metadata": {
        "colab": {
          "base_uri": "https://localhost:8080/"
        },
        "id": "rhgMCWCo0M64",
        "outputId": "4c985539-2223-4deb-d781-c98317c59b05"
      },
      "outputs": [
        {
          "name": "stdout",
          "output_type": "stream",
          "text": [
            "Epoch # 0, avg. train_loss 0.86, avg. validation loss 0.27\n",
            "Epoch # 1, avg. train_loss 0.18, avg. validation loss 0.11\n",
            "Epoch # 2, avg. train_loss 0.12, avg. validation loss 0.10\n",
            "Epoch # 3, avg. train_loss 0.11, avg. validation loss 0.09\n"
          ]
        }
      ],
      "source": [
        "# training loop\n",
        "for epoch in range(epochs):\n",
        "  epoch_loss = 0\n",
        "\n",
        "\n",
        "  #set the network into training mode\n",
        "  net.train()\n",
        "  for batch in train_loader:\n",
        "    batch.to(device)\n",
        "    optimizer.zero_grad()\n",
        "    output = net(batch)\n",
        "    loss = F.mse_loss(\n",
        "        output, batch.y[:, target_idx].unsqueeze(1)\n",
        "    )\n",
        "    loss.backward()\n",
        "    epoch_loss += loss.item()\n",
        "    optimizer.step()\n",
        "\n",
        "  train_avg_loss = epoch_loss/len(train_loader.dataset)\n",
        "\n",
        "\n",
        "  val_loss = 0\n",
        "  #set the network in evaluation mode\n",
        "  net.eval()\n",
        "  for batch in validation_loader:\n",
        "    batch.to(device)\n",
        "    output = net(batch)\n",
        "    loss = F.mse_loss(\n",
        "        output, batch.y[:, target_idx].unsqueeze(1)\n",
        "    )\n",
        "    val_loss += loss.item()\n",
        "\n",
        "  val_avg_loss = val_loss/len(validation_loader.dataset)\n",
        "\n",
        "\n",
        "  print(f'Epoch # {epoch}, avg. train_loss {train_avg_loss:.2f}, avg. validation loss {val_avg_loss:.2f}')"
      ]
    },
    {
      "cell_type": "markdown",
      "metadata": {
        "id": "qZ3QydAxrK69"
      },
      "source": [
        "# Evaluation\n",
        "\n",
        "Finally, we use the trained network to predict the desired target quantity.\n",
        "We need to remember to put the odel into ```eval()``` mode and move data, as well as the model to the GPU (if we have one).\n",
        "\n",
        "Then we loop over the test data and store the predictions together with the true value. Ideally, we would expect a straight line and each prediction is very close to the true value"
      ]
    },
    {
      "cell_type": "code",
      "execution_count": 10,
      "metadata": {
        "id": "cvPLkY0kAKhA"
      },
      "outputs": [],
      "source": [
        "net.eval()\n",
        "predictions = []\n",
        "truth = []\n",
        "\n",
        "# detach the ouput (predictions) from the computational graph of the model\n",
        "# move it to the CPU so we can use it and convert it to numpy format\n",
        "# so we can work with it later (e.g. plot)\n",
        "for batch in test_loader:\n",
        "  batch.to(device)\n",
        "  output = net(batch)\n",
        "  predictions.append(output.detach().cpu().numpy())\n",
        "  truth.append(batch.y[:, target_idx].detach().cpu().numpy())\n",
        "\n",
        "truth = np.concatenate(truth)\n",
        "predictions = np.concatenate(predictions)"
      ]
    },
    {
      "cell_type": "code",
      "execution_count": 11,
      "metadata": {
        "colab": {
          "base_uri": "https://localhost:8080/",
          "height": 295
        },
        "id": "5WPKL-FFA1BY",
        "outputId": "b9e7238f-2e2a-487e-9592-826ae10b4f83"
      },
      "outputs": [
        {
          "data": {
            "image/png": "[encoded data removed]",
            "text/plain": [
              "<Figure size 640x480 with 1 Axes>"
            ]
          },
          "metadata": {},
          "output_type": "display_data"
        }
      ],
      "source": [
        "plt.scatter(predictions[:500],truth[:500])\n",
        "plt.ylabel('true value')\n",
        "plt.xlabel('predicted value')\n",
        "plt.title('isotropic polarizability')\n",
        "plt.show()"
      ]
    }
  ],
  "metadata": {
    "accelerator": "GPU",
    "colab": {
      "provenance": []
    },
    "kernelspec": {
      "display_name": "datascienceintro-eVBNPtpL-py3.10",
      "language": "python",
      "name": "python3"
    },
    "language_info": {
      "codemirror_mode": {
        "name": "ipython",
        "version": 3
      },
      "file_extension": ".py",
      "mimetype": "text/x-python",
      "name": "python",
      "nbconvert_exporter": "python",
      "pygments_lexer": "ipython3",
      "version": "3.10.6"
    },
    "vscode": {
      "interpreter": {
        "hash": "402de31444172310c7be4e347cbdab8859808fc8e2ecdac42a940ed3f4ddd2fb"
      }
    }
  },
  "nbformat": 4,
  "nbformat_minor": 0
}
